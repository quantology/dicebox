{
 "cells": [
  {
   "cell_type": "markdown",
   "metadata": {},
   "source": [
    "<img src=\"https://raw.githubusercontent.com/quantology/dicebox/master/diceset.svg\" width=\"200\" height=\"200\">\n",
    "\n",
    "# dicebox\n",
    "A simple dsl for dice."
   ]
  },
  {
   "cell_type": "code",
   "execution_count": 1,
   "metadata": {},
   "outputs": [],
   "source": [
    "import pandas as pd\n",
    "from dicebox import d"
   ]
  },
  {
   "cell_type": "code",
   "execution_count": 2,
   "metadata": {},
   "outputs": [
    {
     "data": {
      "text/plain": [
       "<Dice(1d20)>"
      ]
     },
     "execution_count": 2,
     "metadata": {},
     "output_type": "execute_result"
    }
   ],
   "source": [
    "d(20)"
   ]
  },
  {
   "cell_type": "code",
   "execution_count": 3,
   "metadata": {},
   "outputs": [
    {
     "data": {
      "text/plain": [
       "2"
      ]
     },
     "execution_count": 3,
     "metadata": {},
     "output_type": "execute_result"
    }
   ],
   "source": [
    "d(20)()"
   ]
  },
  {
   "cell_type": "code",
   "execution_count": 5,
   "metadata": {},
   "outputs": [
    {
     "data": {
      "text/plain": [
       "<Dice(1d6)>"
      ]
     },
     "execution_count": 5,
     "metadata": {},
     "output_type": "execute_result"
    }
   ],
   "source": [
    "d(6)"
   ]
  },
  {
   "cell_type": "code",
   "execution_count": 6,
   "metadata": {},
   "outputs": [
    {
     "data": {
      "text/plain": [
       "array([5, 1, 2, 2, 1, 2, 3, 4, 1, 6, 3, 3, 4, 2, 5, 2, 2, 6, 2, 5, 4, 2,\n",
       "       6, 3, 1, 6, 5, 3, 5, 2, 6, 4, 3, 2, 4, 4, 6, 2, 2, 4, 1, 3, 1, 1,\n",
       "       3, 3, 1, 2, 5, 6, 5, 6, 4, 2, 6, 4, 5, 1, 3, 2, 1, 3, 4, 3, 3, 2,\n",
       "       5, 6, 2, 2, 6, 5, 3, 4, 5, 4, 5, 3, 4, 6, 2, 1, 5, 3, 2, 5, 3, 4,\n",
       "       4, 3, 3, 1, 4, 3, 5, 2, 6, 5, 4, 5])"
      ]
     },
     "execution_count": 6,
     "metadata": {},
     "output_type": "execute_result"
    }
   ],
   "source": [
    "d(6)(100)"
   ]
  },
  {
   "cell_type": "code",
   "execution_count": 7,
   "metadata": {},
   "outputs": [
    {
     "data": {
      "text/plain": [
       "<DiceExpr(1d100 + 5)>"
      ]
     },
     "execution_count": 7,
     "metadata": {},
     "output_type": "execute_result"
    }
   ],
   "source": [
    "d(100) + 5"
   ]
  },
  {
   "cell_type": "code",
   "execution_count": 8,
   "metadata": {},
   "outputs": [
    {
     "data": {
      "text/plain": [
       "0.5059"
      ]
     },
     "execution_count": 8,
     "metadata": {},
     "output_type": "execute_result"
    }
   ],
   "source": [
    "# out of 10k runs, how often is a d20 > 10?\n",
    "(d(20) > 10)(10000).mean()"
   ]
  },
  {
   "cell_type": "code",
   "execution_count": 9,
   "metadata": {},
   "outputs": [
    {
     "name": "stdout",
     "output_type": "stream",
     "text": [
      "(((1d20) > 10) * (3d6))\n"
     ]
    },
    {
     "data": {
      "text/plain": [
       "array([18,  0, 10,  0, 12,  0,  0,  0,  0, 11,  0,  0,  8,  0,  8,  0,  0,\n",
       "        0, 11, 11, 12,  0,  6, 15,  0,  0,  0, 11, 10, 18,  0,  0,  9, 11,\n",
       "       10,  9,  0,  9,  6,  8,  8, 12, 11,  5,  4,  0,  0, 15,  0, 10, 10,\n",
       "        8,  0,  9,  0,  0,  0, 12,  0, 11, 12, 10, 13, 12,  4,  0,  0, 10,\n",
       "       10,  0,  9,  0,  7,  0, 13,  7, 10, 14,  0, 10,  7, 15,  0, 11,  0,\n",
       "        0,  0, 11, 14, 10,  9,  0,  9,  7,  0,  0,  8,  9,  0,  0])"
      ]
     },
     "execution_count": 9,
     "metadata": {},
     "output_type": "execute_result"
    }
   ],
   "source": [
    "# 0 if a d20 <= 10, else 3d6\n",
    "thresholded_3d6 = (d(20) > 10) * (d(6, 6, 6))\n",
    "print(thresholded_3d6)\n",
    "# try it 100 times\n",
    "thresholded_3d6(100)"
   ]
  },
  {
   "cell_type": "code",
   "execution_count": 10,
   "metadata": {},
   "outputs": [
    {
     "data": {
      "text/plain": [
       "True"
      ]
     },
     "execution_count": 10,
     "metadata": {},
     "output_type": "execute_result"
    }
   ],
   "source": [
    "# all of these are equivalent\n",
    "str(d(6) + d(6)) == str(d({6: 2})) == str(d(6, 6)) == \"(2d6)\""
   ]
  },
  {
   "cell_type": "code",
   "execution_count": 11,
   "metadata": {},
   "outputs": [
    {
     "data": {
      "text/plain": [
       "<DiceExpr((1d8 + 3d6) // 2)>"
      ]
     },
     "execution_count": 11,
     "metadata": {},
     "output_type": "execute_result"
    }
   ],
   "source": [
    "# use // to round down after a division\n",
    "d(8, 6, 6, 6) // 2"
   ]
  },
  {
   "cell_type": "code",
   "execution_count": 12,
   "metadata": {},
   "outputs": [
    {
     "data": {
      "text/plain": [
       "<Dice(1d8 + 3d6)>"
      ]
     },
     "execution_count": 12,
     "metadata": {},
     "output_type": "execute_result"
    }
   ],
   "source": [
    "d({8: 1, 6: 3})"
   ]
  },
  {
   "cell_type": "code",
   "execution_count": 13,
   "metadata": {},
   "outputs": [
    {
     "data": {
      "text/plain": [
       "<DiceExpr(1d10 + 5 + 1d20 + 1d8)>"
      ]
     },
     "execution_count": 13,
     "metadata": {},
     "output_type": "execute_result"
    }
   ],
   "source": [
    "d(10) + 5 + d(20) + d(8)"
   ]
  },
  {
   "cell_type": "code",
   "execution_count": 14,
   "metadata": {},
   "outputs": [
    {
     "data": {
      "text/plain": [
       "array([19,  7])"
      ]
     },
     "execution_count": 14,
     "metadata": {},
     "output_type": "execute_result"
    }
   ],
   "source": [
    "# 2 d20s with advantage\n",
    "d(20).adv.roll(2)"
   ]
  },
  {
   "cell_type": "code",
   "execution_count": 15,
   "metadata": {},
   "outputs": [
    {
     "name": "stdout",
     "output_type": "stream",
     "text": [
      "CPU times: user 16.8 ms, sys: 28 µs, total: 16.8 ms\n",
      "Wall time: 15.9 ms\n"
     ]
    }
   ],
   "source": [
    "%%time\n",
    "n = 100000\n",
    "adv = (pd.Series(d(20).adv.roll(n)).value_counts().sort_index() / n)\n",
    "disadv = (pd.Series(d(20).disadv.roll(n)).value_counts().sort_index() / n)\n",
    "norm = (pd.Series(d(20).roll(n)).value_counts().sort_index() / n)"
   ]
  },
  {
   "cell_type": "code",
   "execution_count": 16,
   "metadata": {},
   "outputs": [
    {
     "data": {
      "text/plain": [
       "<matplotlib.axes._subplots.AxesSubplot at 0x7fc8db013518>"
      ]
     },
     "execution_count": 16,
     "metadata": {},
     "output_type": "execute_result"
    },
    {
     "data": {
      "image/png": "[encoded data removed]",
      "text/plain": [
       "<Figure size 1440x576 with 1 Axes>"
      ]
     },
     "metadata": {
      "needs_background": "light"
     },
     "output_type": "display_data"
    }
   ],
   "source": [
    "pd.DataFrame({\"disadv\": disadv, \"norm\": norm, \"adv\": adv}).plot(kind=\"bar\", figsize=(20, 8), width=0.9)"
   ]
  },
  {
   "cell_type": "code",
   "execution_count": 17,
   "metadata": {},
   "outputs": [
    {
     "data": {
      "text/plain": [
       "<DiceExpr((adv(1d20) - disadv(1d20)) * 2)>"
      ]
     },
     "execution_count": 17,
     "metadata": {},
     "output_type": "execute_result"
    }
   ],
   "source": [
    "(d(20).adv - d(20).disadv) * 2"
   ]
  },
  {
   "cell_type": "markdown",
   "metadata": {},
   "source": [
    "**todo:**\n",
    " - [ ] pdist (incl composability)\n",
    " - [ ] roll logging\n",
    " - [ ] better expr collapse (sympy?)\n",
    " - [ ] better DiceExpr str rendering\n",
    " - [ ] DiceExpr.parse\n",
    " - [ ] visual output (w/ scavegr)"
   ]
  },
  {
   "cell_type": "markdown",
   "metadata": {},
   "source": [
    "---"
   ]
  },
  {
   "cell_type": "code",
   "execution_count": 18,
   "metadata": {},
   "outputs": [],
   "source": [
    "import pandas as pd\n",
    "from dicebox.dnd import attack_roll_factory, critical_roll\n",
    "from dicebox import d"
   ]
  },
  {
   "cell_type": "code",
   "execution_count": 19,
   "metadata": {},
   "outputs": [],
   "source": [
    "rapier_attack = attack_roll_factory(\"Rapier\", d(8) + 4, 3)\n",
    "rapier_sneak_attack = attack_roll_factory(\"Rapier\", d(8, 6, 6, 6) + 4, 3)\n",
    "rapier_assassinate_attack = attack_roll_factory(\"Rapier\", critical_roll(d(8, 6, 6, 6) + 4), 3, critical_hits=False)"
   ]
  },
  {
   "cell_type": "code",
   "execution_count": 21,
   "metadata": {},
   "outputs": [
    {
     "name": "stdout",
     "output_type": "stream",
     "text": [
      "Rapier: 21 to hit ((adv(1d20) + 3)); 45 damage ((2d8 + 6d6 + 4))\n",
      "Rapier: 20 to hit ((adv(1d20) + 3)); 29 damage ((2d8 + 6d6 + 4))\n",
      "Rapier: 23 to hit ((adv(1d20) + 3)); 30 damage ((2d8 + 6d6 + 4))\n",
      "Rapier: 11 to hit ((adv(1d20) + 3)); 33 damage ((2d8 + 6d6 + 4))\n",
      "Rapier: 16 to hit ((adv(1d20) + 3)); 31 damage ((2d8 + 6d6 + 4))\n"
     ]
    }
   ],
   "source": [
    "# note that, even with the 23 to hit, no critical hit was triggered (because critical damage is already being used)\n",
    "for i in range(5):\n",
    "    print(rapier_assassinate_attack(adv=True))"
   ]
  },
  {
   "cell_type": "code",
   "execution_count": 22,
   "metadata": {},
   "outputs": [
    {
     "name": "stdout",
     "output_type": "stream",
     "text": [
      "Rapier: critical miss!\n",
      "Rapier: 20 to hit ((1d20 + 3)); 7 damage ((1d8 + 4))\n"
     ]
    }
   ],
   "source": [
    "turn = [rapier_sneak_attack(), rapier_attack()]\n",
    "print(\"\\n\".join(turn))"
   ]
  },
  {
   "cell_type": "code",
   "execution_count": 23,
   "metadata": {},
   "outputs": [],
   "source": [
    "def avg_attack_vs_ac(sim, AC):\n",
    "    hit = ((sim[\"to_hit_roll\"] > AC) | sim[\"critical_hit\"]) & ~ sim[\"critical_miss\"]\n",
    "    return (hit * sim[\"weapon_damage_roll\"]).mean()"
   ]
  },
  {
   "cell_type": "code",
   "execution_count": 24,
   "metadata": {},
   "outputs": [],
   "source": [
    "sneak_attack_sim = pd.DataFrame(rapier_sneak_attack(n=10000, numeric=True))"
   ]
  },
  {
   "cell_type": "code",
   "execution_count": 25,
   "metadata": {},
   "outputs": [
    {
     "data": {
      "text/plain": [
       "8.67334942794164"
      ]
     },
     "execution_count": 25,
     "metadata": {},
     "output_type": "execute_result"
    }
   ],
   "source": [
    "# avg damage per attack vs AC 15 opponent\n",
    "avg_attack_vs_ac(sneak_attack_sim, AC=15)"
   ]
  },
  {
   "cell_type": "code",
   "execution_count": 26,
   "metadata": {},
   "outputs": [],
   "source": [
    "sneak_attack_adv_sim = pd.DataFrame(rapier_sneak_attack(n=10000, numeric=True, adv=True))\n",
    "sneak_attack_disadv_sim = pd.DataFrame(rapier_sneak_attack(n=10000, numeric=True, disadv=True))"
   ]
  },
  {
   "cell_type": "code",
   "execution_count": 27,
   "metadata": {},
   "outputs": [
    {
     "data": {
      "text/plain": [
       "13.66091492776886"
      ]
     },
     "execution_count": 27,
     "metadata": {},
     "output_type": "execute_result"
    }
   ],
   "source": [
    "# avg damage per attack (w/ advantage) vs AC 15 opponent\n",
    "avg_attack_vs_ac(sneak_attack_adv_sim, AC=15)"
   ]
  },
  {
   "cell_type": "code",
   "execution_count": 28,
   "metadata": {},
   "outputs": [
    {
     "name": "stdout",
     "output_type": "stream",
     "text": [
      "critical hit %:\n",
      "0.0026 0.0469 0.0983\n",
      "critical miss %:\n",
      "0.0962 0.0473 0.0032\n"
     ]
    }
   ],
   "source": [
    "print(\"critical hit %:\")\n",
    "print(sneak_attack_disadv_sim[\"critical_hit\"].mean(), sneak_attack_sim[\"critical_hit\"].mean(), sneak_attack_adv_sim[\"critical_hit\"].mean())\n",
    "print(\"critical miss %:\")\n",
    "print(sneak_attack_disadv_sim[\"critical_miss\"].mean(), sneak_attack_sim[\"critical_miss\"].mean(), sneak_attack_adv_sim[\"critical_miss\"].mean())"
   ]
  },
  {
   "cell_type": "code",
   "execution_count": 29,
   "metadata": {},
   "outputs": [
    {
     "data": {
      "image/png": "[encoded data removed]",
      "text/plain": [
       "<Figure size 864x576 with 1 Axes>"
      ]
     },
     "metadata": {
      "needs_background": "light"
     },
     "output_type": "display_data"
    }
   ],
   "source": [
    "sneak_attack_dmg_vs_ac = pd.DataFrame([{\"disadv\": avg_attack_vs_ac(sneak_attack_disadv_sim, AC=AC),\n",
    "                    \"normal\": avg_attack_vs_ac(sneak_attack_sim, AC=AC),\n",
    "                    \"adv\": avg_attack_vs_ac(sneak_attack_adv_sim, AC=AC)}\n",
    "                   for AC in range(1, 26)])\n",
    "ax = sneak_attack_dmg_vs_ac.plot(title=str(d(8, 6, 6, 6) + 4), figsize=(12, 8), grid=True)\n",
    "ax.set_xlabel(\"AC\")\n",
    "ax.set_ylabel(\"avg damage\");\n",
    "# note: advantage matters most low to mid; disadvantage matters most mid to high"
   ]
  },
  {
   "cell_type": "code",
   "execution_count": 30,
   "metadata": {},
   "outputs": [
    {
     "data": {
      "text/html": [
       "<div>\n",
       "<style scoped>\n",
       "    .dataframe tbody tr th:only-of-type {\n",
       "        vertical-align: middle;\n",
       "    }\n",
       "\n",
       "    .dataframe tbody tr th {\n",
       "        vertical-align: top;\n",
       "    }\n",
       "\n",
       "    .dataframe thead th {\n",
       "        text-align: right;\n",
       "    }\n",
       "</style>\n",
       "<table border=\"1\" class=\"dataframe\">\n",
       "  <thead>\n",
       "    <tr style=\"text-align: right;\">\n",
       "      <th></th>\n",
       "      <th>adv</th>\n",
       "      <th>disadv</th>\n",
       "      <th>normal</th>\n",
       "    </tr>\n",
       "  </thead>\n",
       "  <tbody>\n",
       "    <tr>\n",
       "      <th>0</th>\n",
       "      <td>20.408708</td>\n",
       "      <td>19.016818</td>\n",
       "      <td>19.701480</td>\n",
       "    </tr>\n",
       "    <tr>\n",
       "      <th>1</th>\n",
       "      <td>20.408708</td>\n",
       "      <td>19.016818</td>\n",
       "      <td>19.701480</td>\n",
       "    </tr>\n",
       "    <tr>\n",
       "      <th>2</th>\n",
       "      <td>20.408708</td>\n",
       "      <td>19.016818</td>\n",
       "      <td>19.701480</td>\n",
       "    </tr>\n",
       "    <tr>\n",
       "      <th>3</th>\n",
       "      <td>20.408708</td>\n",
       "      <td>19.016818</td>\n",
       "      <td>19.701480</td>\n",
       "    </tr>\n",
       "    <tr>\n",
       "      <th>4</th>\n",
       "      <td>20.269462</td>\n",
       "      <td>16.964151</td>\n",
       "      <td>18.703894</td>\n",
       "    </tr>\n",
       "    <tr>\n",
       "      <th>5</th>\n",
       "      <td>20.028391</td>\n",
       "      <td>15.121598</td>\n",
       "      <td>17.617718</td>\n",
       "    </tr>\n",
       "    <tr>\n",
       "      <th>6</th>\n",
       "      <td>19.713884</td>\n",
       "      <td>13.372649</td>\n",
       "      <td>16.587593</td>\n",
       "    </tr>\n",
       "    <tr>\n",
       "      <th>7</th>\n",
       "      <td>19.292335</td>\n",
       "      <td>11.798517</td>\n",
       "      <td>15.612575</td>\n",
       "    </tr>\n",
       "    <tr>\n",
       "      <th>8</th>\n",
       "      <td>18.834370</td>\n",
       "      <td>10.330825</td>\n",
       "      <td>14.625695</td>\n",
       "    </tr>\n",
       "    <tr>\n",
       "      <th>9</th>\n",
       "      <td>18.255016</td>\n",
       "      <td>8.866342</td>\n",
       "      <td>13.668101</td>\n",
       "    </tr>\n",
       "    <tr>\n",
       "      <th>10</th>\n",
       "      <td>17.529695</td>\n",
       "      <td>7.598916</td>\n",
       "      <td>12.657920</td>\n",
       "    </tr>\n",
       "    <tr>\n",
       "      <th>11</th>\n",
       "      <td>16.716994</td>\n",
       "      <td>6.435052</td>\n",
       "      <td>11.642490</td>\n",
       "    </tr>\n",
       "    <tr>\n",
       "      <th>12</th>\n",
       "      <td>15.811697</td>\n",
       "      <td>5.179686</td>\n",
       "      <td>10.605962</td>\n",
       "    </tr>\n",
       "    <tr>\n",
       "      <th>13</th>\n",
       "      <td>14.771569</td>\n",
       "      <td>4.171830</td>\n",
       "      <td>9.653406</td>\n",
       "    </tr>\n",
       "    <tr>\n",
       "      <th>14</th>\n",
       "      <td>13.660915</td>\n",
       "      <td>3.307480</td>\n",
       "      <td>8.673349</td>\n",
       "    </tr>\n",
       "    <tr>\n",
       "      <th>15</th>\n",
       "      <td>12.471409</td>\n",
       "      <td>2.537176</td>\n",
       "      <td>7.662328</td>\n",
       "    </tr>\n",
       "    <tr>\n",
       "      <th>16</th>\n",
       "      <td>11.168941</td>\n",
       "      <td>1.909272</td>\n",
       "      <td>6.674084</td>\n",
       "    </tr>\n",
       "    <tr>\n",
       "      <th>17</th>\n",
       "      <td>9.772271</td>\n",
       "      <td>1.265103</td>\n",
       "      <td>5.733599</td>\n",
       "    </tr>\n",
       "    <tr>\n",
       "      <th>18</th>\n",
       "      <td>8.299659</td>\n",
       "      <td>0.792211</td>\n",
       "      <td>4.721633</td>\n",
       "    </tr>\n",
       "    <tr>\n",
       "      <th>19</th>\n",
       "      <td>6.771870</td>\n",
       "      <td>0.478203</td>\n",
       "      <td>3.663378</td>\n",
       "    </tr>\n",
       "    <tr>\n",
       "      <th>20</th>\n",
       "      <td>5.127508</td>\n",
       "      <td>0.233237</td>\n",
       "      <td>2.655925</td>\n",
       "    </tr>\n",
       "    <tr>\n",
       "      <th>21</th>\n",
       "      <td>3.328250</td>\n",
       "      <td>0.101129</td>\n",
       "      <td>1.666422</td>\n",
       "    </tr>\n",
       "    <tr>\n",
       "      <th>22</th>\n",
       "      <td>3.328250</td>\n",
       "      <td>0.101129</td>\n",
       "      <td>1.666422</td>\n",
       "    </tr>\n",
       "    <tr>\n",
       "      <th>23</th>\n",
       "      <td>3.328250</td>\n",
       "      <td>0.101129</td>\n",
       "      <td>1.666422</td>\n",
       "    </tr>\n",
       "    <tr>\n",
       "      <th>24</th>\n",
       "      <td>3.328250</td>\n",
       "      <td>0.101129</td>\n",
       "      <td>1.666422</td>\n",
       "    </tr>\n",
       "  </tbody>\n",
       "</table>\n",
       "</div>"
      ],
      "text/plain": [
       "          adv     disadv     normal\n",
       "0   20.408708  19.016818  19.701480\n",
       "1   20.408708  19.016818  19.701480\n",
       "2   20.408708  19.016818  19.701480\n",
       "3   20.408708  19.016818  19.701480\n",
       "4   20.269462  16.964151  18.703894\n",
       "5   20.028391  15.121598  17.617718\n",
       "6   19.713884  13.372649  16.587593\n",
       "7   19.292335  11.798517  15.612575\n",
       "8   18.834370  10.330825  14.625695\n",
       "9   18.255016   8.866342  13.668101\n",
       "10  17.529695   7.598916  12.657920\n",
       "11  16.716994   6.435052  11.642490\n",
       "12  15.811697   5.179686  10.605962\n",
       "13  14.771569   4.171830   9.653406\n",
       "14  13.660915   3.307480   8.673349\n",
       "15  12.471409   2.537176   7.662328\n",
       "16  11.168941   1.909272   6.674084\n",
       "17   9.772271   1.265103   5.733599\n",
       "18   8.299659   0.792211   4.721633\n",
       "19   6.771870   0.478203   3.663378\n",
       "20   5.127508   0.233237   2.655925\n",
       "21   3.328250   0.101129   1.666422\n",
       "22   3.328250   0.101129   1.666422\n",
       "23   3.328250   0.101129   1.666422\n",
       "24   3.328250   0.101129   1.666422"
      ]
     },
     "execution_count": 30,
     "metadata": {},
     "output_type": "execute_result"
    }
   ],
   "source": [
    "sneak_attack_dmg_vs_ac"
   ]
  },
  {
   "cell_type": "code",
   "execution_count": null,
   "metadata": {},
   "outputs": [],
   "source": []
  }
 ],
 "metadata": {
  "kernelspec": {
   "display_name": "mvst",
   "language": "python",
   "name": "mvst"
  },
  "language_info": {
   "codemirror_mode": {
    "name": "ipython",
    "version": 3
   },
   "file_extension": ".py",
   "mimetype": "text/x-python",
   "name": "python",
   "nbconvert_exporter": "python",
   "pygments_lexer": "ipython3",
   "version": "3.7.2"
  }
 },
 "nbformat": 4,
 "nbformat_minor": 4
}

{
 "cells": [
  {
   "cell_type": "markdown",
   "metadata": {},
   "source": [
    "<img src=\"https://raw.githubusercontent.com/quantology/dicebox/master/diceset.svg\" width=\"200\" height=\"200\">\n",
    "\n",
    "# dicebox\n",
    "A simple dsl for dice."
   ]
  },
  {
   "cell_type": "code",
   "execution_count": 17,
   "metadata": {},
   "outputs": [],
   "source": [
    "import pandas as pd\n",
    "from dicebox import d"
   ]
  },
  {
   "cell_type": "code",
   "execution_count": 2,
   "metadata": {},
   "outputs": [
    {
     "data": {
      "text/plain": [
       "<DiceExpr(1d100 + 5)>"
      ]
     },
     "execution_count": 2,
     "metadata": {},
     "output_type": "execute_result"
    }
   ],
   "source": [
    "d(100) + 5"
   ]
  },
  {
   "cell_type": "code",
   "execution_count": 3,
   "metadata": {},
   "outputs": [
    {
     "data": {
      "text/plain": [
       "True"
      ]
     },
     "execution_count": 3,
     "metadata": {},
     "output_type": "execute_result"
    }
   ],
   "source": [
    "str(d(6) + d(6)) == str(d({6: 2})) == str(d(6, 6)) == \"(2d6)\""
   ]
  },
  {
   "cell_type": "code",
   "execution_count": 4,
   "metadata": {},
   "outputs": [
    {
     "data": {
      "text/plain": [
       "<DiceExpr((1d8 + 3d6) // 2)>"
      ]
     },
     "execution_count": 4,
     "metadata": {},
     "output_type": "execute_result"
    }
   ],
   "source": [
    "d(8, 6, 6, 6) // 2"
   ]
  },
  {
   "cell_type": "code",
   "execution_count": 5,
   "metadata": {},
   "outputs": [
    {
     "data": {
      "text/plain": [
       "<Dice(1d8 + 3d6)>"
      ]
     },
     "execution_count": 5,
     "metadata": {},
     "output_type": "execute_result"
    }
   ],
   "source": [
    "d({8: 1, 6: 3})"
   ]
  },
  {
   "cell_type": "code",
   "execution_count": 6,
   "metadata": {},
   "outputs": [
    {
     "data": {
      "text/plain": [
       "<DiceExpr(1d10 + 5 + 1d8 + 1d20)>"
      ]
     },
     "execution_count": 6,
     "metadata": {},
     "output_type": "execute_result"
    }
   ],
   "source": [
    "d(10) + 5 + (d(20) + d(8))"
   ]
  },
  {
   "cell_type": "code",
   "execution_count": 7,
   "metadata": {},
   "outputs": [
    {
     "data": {
      "text/plain": [
       "array([17, 17])"
      ]
     },
     "execution_count": 7,
     "metadata": {},
     "output_type": "execute_result"
    }
   ],
   "source": [
    "d(20).adv.roll(2)"
   ]
  },
  {
   "cell_type": "code",
   "execution_count": 8,
   "metadata": {},
   "outputs": [],
   "source": [
    "n = 100000\n",
    "adv = (pd.Series(d(20).adv.roll(n)).value_counts().sort_index() / n)\n",
    "disadv = (pd.Series(d(20).disadv.roll(n)).value_counts().sort_index() / n)\n",
    "norm = (pd.Series(d(20).roll(n)).value_counts().sort_index() / n)"
   ]
  },
  {
   "cell_type": "code",
   "execution_count": 15,
   "metadata": {},
   "outputs": [
    {
     "data": {
      "text/plain": [
       "<matplotlib.axes._subplots.AxesSubplot at 0x7fd99f6b0208>"
      ]
     },
     "execution_count": 15,
     "metadata": {},
     "output_type": "execute_result"
    },
    {
     "data": {
      "image/png": "[encoded data removed]",
      "text/plain": [
       "<Figure size 1440x576 with 1 Axes>"
      ]
     },
     "metadata": {
      "needs_background": "light"
     },
     "output_type": "display_data"
    }
   ],
   "source": [
    "pd.DataFrame({\"disadv\": disadv, \"norm\": norm, \"adv\": adv}).plot(kind=\"bar\", figsize=(20, 8), width=0.9)"
   ]
  },
  {
   "cell_type": "code",
   "execution_count": 10,
   "metadata": {},
   "outputs": [
    {
     "data": {
      "text/plain": [
       "<DiceExpr((adv(1d20) - disadv(1d20)) * 2)>"
      ]
     },
     "execution_count": 10,
     "metadata": {},
     "output_type": "execute_result"
    }
   ],
   "source": [
    "(d(20).adv - d(20).disadv) * 2"
   ]
  },
  {
   "cell_type": "markdown",
   "metadata": {},
   "source": [
    "**todo:**\n",
    " - [ ] better batching\n",
    " - [ ] pdist (incl composability)\n",
    " - [ ] thresholding\n",
    " - [ ] roll logging\n",
    " - [ ] right-operations (e.g. `2 * d(6)`)\n",
    " - [ ] better expr collapse\n",
    " - [ ] DiceExpr.parse\n",
    " - [ ] visual output (w/ scavegr)\n",
    " - [ ] DnD numeric output (& batching)"
   ]
  },
  {
   "cell_type": "markdown",
   "metadata": {},
   "source": [
    "---"
   ]
  },
  {
   "cell_type": "code",
   "execution_count": 18,
   "metadata": {},
   "outputs": [],
   "source": [
    "from dicebox.dnd import attack_roll_factory, critical_roll"
   ]
  },
  {
   "cell_type": "code",
   "execution_count": 19,
   "metadata": {},
   "outputs": [],
   "source": [
    "rapier_attack = attack_roll_factory(\"Rapier\", d(8) + 4, 3)\n",
    "rapier_sneak_attack = attack_roll_factory(\"Rapier\", d(8, 6, 6, 6) + 4, 3)\n",
    "rapier_assassinate_attack = attack_roll_factory(\"Rapier\", critical_roll(d(8, 6, 6, 6) + 4), 3, critical_hits=False)"
   ]
  },
  {
   "cell_type": "code",
   "execution_count": 20,
   "metadata": {},
   "outputs": [
    {
     "name": "stdout",
     "output_type": "stream",
     "text": [
      "Rapier: 17 to hit (adv(1d20) + 3); 39 damage (2d8 + 6d6 + 4)\n",
      "Rapier: 17 to hit (adv(1d20) + 3); 36 damage (2d8 + 6d6 + 4)\n",
      "Rapier: 12 to hit (adv(1d20) + 3); 25 damage (2d8 + 6d6 + 4)\n",
      "Rapier: 21 to hit (adv(1d20) + 3); 37 damage (2d8 + 6d6 + 4)\n",
      "Rapier: 10 to hit (adv(1d20) + 3); 32 damage (2d8 + 6d6 + 4)\n",
      "Rapier: 22 to hit (adv(1d20) + 3); 36 damage (2d8 + 6d6 + 4)\n",
      "Rapier: 17 to hit (adv(1d20) + 3); 37 damage (2d8 + 6d6 + 4)\n",
      "Rapier: 14 to hit (adv(1d20) + 3); 29 damage (2d8 + 6d6 + 4)\n",
      "Rapier: 10 to hit (adv(1d20) + 3); 39 damage (2d8 + 6d6 + 4)\n",
      "Rapier: 15 to hit (adv(1d20) + 3); 37 damage (2d8 + 6d6 + 4)\n",
      "Rapier: 23 to hit (adv(1d20) + 3); 27 damage (2d8 + 6d6 + 4)\n",
      "Rapier: 8 to hit (adv(1d20) + 3); 36 damage (2d8 + 6d6 + 4)\n",
      "Rapier: 15 to hit (adv(1d20) + 3); 31 damage (2d8 + 6d6 + 4)\n",
      "Rapier: 20 to hit (adv(1d20) + 3); 38 damage (2d8 + 6d6 + 4)\n",
      "Rapier: 12 to hit (adv(1d20) + 3); 34 damage (2d8 + 6d6 + 4)\n",
      "Rapier: 15 to hit (adv(1d20) + 3); 31 damage (2d8 + 6d6 + 4)\n",
      "Rapier: 18 to hit (adv(1d20) + 3); 35 damage (2d8 + 6d6 + 4)\n",
      "Rapier: 14 to hit (adv(1d20) + 3); 41 damage (2d8 + 6d6 + 4)\n",
      "Rapier: 21 to hit (adv(1d20) + 3); 38 damage (2d8 + 6d6 + 4)\n",
      "Rapier: 19 to hit (adv(1d20) + 3); 34 damage (2d8 + 6d6 + 4)\n"
     ]
    }
   ],
   "source": [
    "for i in range(20):\n",
    "    print(rapier_assassinate_attack(adv=True))"
   ]
  },
  {
   "cell_type": "code",
   "execution_count": 21,
   "metadata": {},
   "outputs": [
    {
     "name": "stdout",
     "output_type": "stream",
     "text": [
      "Rapier: 19 to hit (1d20 + 3); 9 damage (1d8 + 3d6 + 4)\n",
      "Rapier: 9 to hit (1d20 + 3); 5 damage (1d8 + 4)\n"
     ]
    }
   ],
   "source": [
    "turn = [rapier_sneak_attack(), rapier_attack()]\n",
    "print(\"\\n\".join(turn))"
   ]
  },
  {
   "cell_type": "code",
   "execution_count": null,
   "metadata": {},
   "outputs": [],
   "source": []
  }
 ],
 "metadata": {
  "kernelspec": {
   "display_name": "mvst",
   "language": "python",
   "name": "mvst"
  },
  "language_info": {
   "codemirror_mode": {
    "name": "ipython",
    "version": 3
   },
   "file_extension": ".py",
   "mimetype": "text/x-python",
   "name": "python",
   "nbconvert_exporter": "python",
   "pygments_lexer": "ipython3",
   "version": "3.7.2"
  }
 },
 "nbformat": 4,
 "nbformat_minor": 4
}

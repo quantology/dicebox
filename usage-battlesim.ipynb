{
 "cells": [
  {
   "cell_type": "code",
   "execution_count": 1,
   "metadata": {},
   "outputs": [],
   "source": [
    "from dicebox import d\n",
    "from dicebox.dnd import attack_roll_factory, battlesim"
   ]
  },
  {
   "cell_type": "code",
   "execution_count": 2,
   "metadata": {},
   "outputs": [],
   "source": [
    "rapier_attack = attack_roll_factory(\"Rapier\", d(8) + 4, 3)\n",
    "rapier_sneak_attack = attack_roll_factory(\"Rapier (sneak)\", d(8, 6, 6, 6) + 4, 3)\n",
    "dagger_attack = attack_roll_factory(\"Dagger\", d(4) + 4, 3)\n",
    "dagger_sneak_attack = attack_roll_factory(\"Dagger (sneak)\", d(4, 6, 6, 6) + 4, 3)\n",
    "\n",
    "club_attack = attack_roll_factory(\"Club\", d(4) + 4, 3)"
   ]
  },
  {
   "cell_type": "code",
   "execution_count": 6,
   "metadata": {},
   "outputs": [],
   "source": [
    "john = {\n",
    "    \"HP\": 30,\n",
    "    \"AC\": 13,\n",
    "    \"attacks\": {\n",
    "        \"rapier\": rapier_attack,\n",
    "        \"rapier sneak\": rapier_sneak_attack,\n",
    "        \"dagger\": dagger_attack\n",
    "    }\n",
    "}\n",
    "jack = {\n",
    "    \"HP\": 30,\n",
    "    \"AC\": 13,\n",
    "    \"attacks\": {\n",
    "        \"rapier\": rapier_attack,\n",
    "        \"dagger\": dagger_attack,\n",
    "        \"dagger sneak\": dagger_sneak_attack\n",
    "    }\n",
    "}\n",
    "jill = {\n",
    "    \"HP\": 10,\n",
    "    \"AC\": 10,\n",
    "    \"attacks\": {\n",
    "        \"club\": club_attack\n",
    "    }\n",
    "}\n",
    "\n",
    "team1 = {\"john\": john}\n",
    "team2 = {\"jack\": jack, \"jill\": jill}"
   ]
  },
  {
   "cell_type": "code",
   "execution_count": 7,
   "metadata": {},
   "outputs": [
    {
     "name": "stdout",
     "output_type": "stream",
     "text": [
      "john attacks jill with rapier sneak\n",
      "attack hits! (14 vs 10)\n",
      "20 damage (10 -> -10)\n",
      "\n",
      "jack attacks john with dagger sneak\n",
      "attack misses! (4 vs 13)\n",
      "no damage\n",
      "\n",
      "john attacks jack with rapier sneak\n",
      "attack misses! (12 vs 13)\n",
      "no damage\n",
      "\n",
      "jack attacks john with dagger sneak\n",
      "attack misses! (8 vs 13)\n",
      "no damage\n",
      "\n",
      "john attacks jack with rapier sneak\n",
      "attack hits! (15 vs 13)\n",
      "18 damage (30 -> 12)\n",
      "\n",
      "jack attacks john with dagger sneak\n",
      "attack hits! (17 vs 13)\n",
      "11 damage (30 -> 19)\n",
      "\n",
      "john attacks jack with rapier sneak\n",
      "CRITICL HIT! (23 vs 13)\n",
      "34 damage (12 -> -22)\n",
      "\n"
     ]
    },
    {
     "data": {
      "text/plain": [
       "({'john': {'HP': 19,\n",
       "   'AC': 13,\n",
       "   'attacks': {'rapier': functools.partial(<function attack_roll at 0x7f4e24204700>, to_hit_bonus=3, weapon_damage=<DiceExpr(1d8 + 4)>, name='Rapier'),\n",
       "    'rapier sneak': functools.partial(<function attack_roll at 0x7f4e24204700>, to_hit_bonus=3, weapon_damage=<DiceExpr(1d8 + 3d6 + 4)>, name='Rapier (sneak)'),\n",
       "    'dagger': functools.partial(<function attack_roll at 0x7f4e24204700>, to_hit_bonus=3, weapon_damage=<DiceExpr(1d4 + 4)>, name='Dagger')}}},\n",
       " {'jack': {'HP': -22,\n",
       "   'AC': 13,\n",
       "   'attacks': {'rapier': functools.partial(<function attack_roll at 0x7f4e24204700>, to_hit_bonus=3, weapon_damage=<DiceExpr(1d8 + 4)>, name='Rapier'),\n",
       "    'dagger': functools.partial(<function attack_roll at 0x7f4e24204700>, to_hit_bonus=3, weapon_damage=<DiceExpr(1d4 + 4)>, name='Dagger'),\n",
       "    'dagger sneak': functools.partial(<function attack_roll at 0x7f4e24204700>, to_hit_bonus=3, weapon_damage=<DiceExpr(1d4 + 3d6 + 4)>, name='Dagger (sneak)')}},\n",
       "  'jill': {'HP': -10,\n",
       "   'AC': 10,\n",
       "   'attacks': {'club': functools.partial(<function attack_roll at 0x7f4e24204700>, to_hit_bonus=3, weapon_damage=<DiceExpr(1d4 + 4)>, name='Club')}}})"
      ]
     },
     "execution_count": 7,
     "metadata": {},
     "output_type": "execute_result"
    }
   ],
   "source": [
    "battlesim(team1, team2)"
   ]
  }
 ],
 "metadata": {
  "kernelspec": {
   "display_name": "scratch",
   "language": "python",
   "name": "scratch"
  },
  "language_info": {
   "codemirror_mode": {
    "name": "ipython",
    "version": 3
   },
   "file_extension": ".py",
   "mimetype": "text/x-python",
   "name": "python",
   "nbconvert_exporter": "python",
   "pygments_lexer": "ipython3",
   "version": "3.8.2"
  }
 },
 "nbformat": 4,
 "nbformat_minor": 4
}
